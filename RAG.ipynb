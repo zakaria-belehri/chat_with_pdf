{
 "cells": [
  {
   "cell_type": "code",
   "execution_count": 3,
   "id": "c501f629",
   "metadata": {},
   "outputs": [
    {
     "name": "stderr",
     "output_type": "stream",
     "text": [
      "/Users/HP/Desktop/Chat_With_Pdf/venv/lib/python3.12/site-packages/tqdm/auto.py:21: TqdmWarning: IProgress not found. Please update jupyter and ipywidgets. See https://ipywidgets.readthedocs.io/en/stable/user_install.html\n",
      "  from .autonotebook import tqdm as notebook_tqdm\n"
     ]
    }
   ],
   "source": [
    "from unstructured.partition.pdf import partition_pdf\n",
    "from langchain_openai import ChatOpenAI\n",
    "from langchain_core.messages import SystemMessage, HumanMessage\n",
    "from langchain_core.prompts import ChatPromptTemplate\n",
    "from langchain_core.output_parsers import StrOutputParser\n",
    "from langchain.schema.runnable import RunnablePassthrough,RunnableLambda\n",
    "\n",
    "from langchain_postgres.vectorstores import PGVector\n",
    "from database import COLLECTION_NAME, CONNECTION_STRING\n",
    "from langchain_community.storage import RedisStore\n",
    "from langchain.schema.document import Document\n",
    "from langchain_openai import OpenAIEmbeddings\n",
    "from langchain.retrievers.multi_vector import MultiVectorRetriever\n",
    "from pathlib import Path\n",
    "from IPython.display import display, HTML, Markdown\n",
    "from base64 import b64decode\n",
    "import os, hashlib, shutil, uuid, json, time\n",
    "import torch, redis, streamlit as st\n",
    "import logging\n",
    "# Initialize Redis client\n",
    "client = redis.Redis(host=\"localhost\", port=6379, db=0)"
   ]
  },
  {
   "cell_type": "code",
   "execution_count": 4,
   "id": "9687379e",
   "metadata": {},
   "outputs": [
    {
     "data": {
      "text/plain": [
       "True"
      ]
     },
     "execution_count": 4,
     "metadata": {},
     "output_type": "execute_result"
    }
   ],
   "source": [
    "from dotenv import load_dotenv\n",
    "load_dotenv()"
   ]
  },
  {
   "cell_type": "code",
   "execution_count": 5,
   "id": "25dc43f3",
   "metadata": {},
   "outputs": [],
   "source": [
    "FILE_PATH = Path(\"MSF-Churn-Project.pdf\") "
   ]
  },
  {
   "cell_type": "markdown",
   "id": "08b42166",
   "metadata": {},
   "source": [
    "### Data Loading"
   ]
  },
  {
   "cell_type": "code",
   "execution_count": 6,
   "id": "1b11a726",
   "metadata": {},
   "outputs": [],
   "source": [
    "def data_loading():\n",
    "\n",
    "    raw_pdf_elements = partition_pdf(\n",
    "        filename=FILE_PATH,\n",
    "      \n",
    "        infer_table_structure=True,\n",
    "        strategy = \"hi_res\",\n",
    "        \n",
    "        extract_image_block_types = [\"Image\"],\n",
    "        extract_image_block_to_payload  = True,\n",
    "\n",
    "        chunking_strategy=\"by_title\",     \n",
    "        mode='elements',\n",
    "        max_characters=10000,\n",
    "        new_after_n_chars=5000,\n",
    "        combine_text_under_n_chars=2000,\n",
    "        image_output_dir_path=\"data/\",\n",
    "    )\n",
    "    return raw_pdf_elements"
   ]
  },
  {
   "cell_type": "code",
   "execution_count": 7,
   "id": "e7ba4b0c",
   "metadata": {},
   "outputs": [
    {
     "name": "stderr",
     "output_type": "stream",
     "text": [
      "The `max_size` parameter is deprecated and will be removed in v4.26. Please specify in `size['longest_edge'] instead`.\n"
     ]
    }
   ],
   "source": [
    "pdf_elements = data_loading()"
   ]
  },
  {
   "cell_type": "code",
   "execution_count": 8,
   "id": "a98bdfd6",
   "metadata": {},
   "outputs": [
    {
     "data": {
      "text/plain": [
       "[<unstructured.documents.elements.CompositeElement at 0x342fc9bb0>,\n",
       " <unstructured.documents.elements.CompositeElement at 0x31660b9e0>,\n",
       " <unstructured.documents.elements.CompositeElement at 0x317db5c40>,\n",
       " <unstructured.documents.elements.CompositeElement at 0x309b63320>,\n",
       " <unstructured.documents.elements.CompositeElement at 0x3087b23f0>,\n",
       " <unstructured.documents.elements.CompositeElement at 0x3087e7cb0>]"
      ]
     },
     "execution_count": 8,
     "metadata": {},
     "output_type": "execute_result"
    }
   ],
   "source": [
    "pdf_elements"
   ]
  },
  {
   "cell_type": "code",
   "execution_count": 9,
   "id": "f9e516bf",
   "metadata": {},
   "outputs": [],
   "source": [
    "tables = [element.metadata.text_as_html for element in pdf_elements if 'Table' in str(type(element))]\n",
    "text = [element.text for element in pdf_elements if 'CompositeElement' in str(type(element))]"
   ]
  },
  {
   "cell_type": "code",
   "execution_count": 10,
   "id": "0d6fbf01",
   "metadata": {},
   "outputs": [
    {
     "data": {
      "text/plain": [
       "[]"
      ]
     },
     "execution_count": 10,
     "metadata": {},
     "output_type": "execute_result"
    }
   ],
   "source": [
    "tables"
   ]
  },
  {
   "cell_type": "code",
   "execution_count": 11,
   "id": "ac862f7b",
   "metadata": {},
   "outputs": [
    {
     "data": {
      "text/plain": [
       "['CHURN PREDICTION AND OPTIMISATION– 8 JAN 2025\\n\\nOPTIMISATION– 8 JAN 2025\\n\\nAGENDA\\n\\n1. Introduction of project team (MSF, ESMT)\\n\\n2. Introduction to MSF – Flaminia\\n\\n3. Introduction to Fundraising Loyalty Management in MSF – Nicole 4. Overview of project scope – Zankar\\n\\n5. Project cadence and next steps – Rania\\n\\n6. Q&A\\n\\nLE MEDECINS SANS FRONTIERES ARZTE OHNE GRENZEN eV.\\n\\nPROJECT TEAM - INTRODUCTION\\n\\nMSF\\n\\nName Role Flaminia Sabrie Head of Strategy & Organisational Development Department Nicole Officer Loyalty Huwendiek Management (FR) Markus Kopf Head of IT Strategy Unit Zankar Koli Data Engineering & Analytics Specialist Rania Aboueid IT Project Support Officer\\n\\nESMT\\n\\nName Role Dr. Vlada MAAI - Analytics Pleshcheva Consulting Project Coordinator Djordje Pevcevic Mentor Giovanna Student Mariotto Whitaker Cavalcanti Stanislas Student Koralewski Youssef Ouidani Student Zakaria Belehri Student\\n\\nABOUT MSF\\n\\nWhen was MSF founded?\\n\\nMédecins Sans Frontières (MSF) was founded in 1971 in France by a group of doctors and journalists in the wake of war and famine in Biafra, Nigeria. Their aim was to establish an independent organization that focuses on delivering emergency medicine aid quickly, effectively and impartially.\\n\\nMSF is a private international association. The association is made up mainly of doctors and health sector workers and is also open to all other professions which might help in achieving its aims.\\n\\nThree hundred volunteers made up the organization when it was founded: doctors, nurses and other staff, including the 13 founding doctors and journalists. Today, MSF is a worldwide movement of over 69,000 people.\\n\\nWho we are?\\n\\nWhere do we Work?\\n\\nIn more than 70 countries, Médecins Sans Frontières provides medical humanitarian assistance to save lives and ease the suffering of people in crisis situations.\\n\\nFull list of countries\\n\\nLE MEDECINS SANS FRONTIERES ARZTE OHNE GRENZEN eV.\\n\\nABOUT MSF\\n\\nMSF was created in the belief that all people should have access to healthcare regardless of gender, race, religion, creed or political affiliation, and that people’s medical needs outweigh respect for national boundaries. MSF’s principles of action are described in our charter, which established a framework for our activities.',\n",
       " 'The MSF Charter:\\n\\n✓ Médecins Sans Frontières provides assistance to populations in distress, to victims of natural or man-made disasters and to victims of armed conflict. They do so irrespective of race, religion, creed or political convictions.\\n\\n✓ Médecins Sans Frontières observes neutrality and impartiality in the name of universal medical ethics and the right to humanitarian assistance and claims full and unhindered freedom in the exercise of its functions.\\n\\n✓ Members undertake to respect their professional code of ethics and to maintain complete independence from all political, economic, or religious powers.\\n\\n✓ As volunteers, members understand the risks and dangers of the missions they carry out and make no claim for themselves or their assigns for any form of compensation other than that which the association might be able to afford them\\n\\nLE MEDECINS SANS FRONTIERES ARZTE OHNE GRENZEN eV.\\n\\nFUNDRAISING LOYALTY MANAGEMENT\\n\\nWhat is Fundraising in MSF\\n\\nThe task of the fundraising department is to secure funding for international projects, so that emergency medical aid can be organized and implemented independently, professionally, quickly and effectively.\\n\\nMSF-Germany is financed by: ▪ Donations from private individuals and companies ▪ Grants from various foundations ▪ Fines imposed ▪ Legacies\\n\\nOur aim is to retain donors and win them for long-term project support - through honesty, openness and transparency.\\n\\nLE MEDECINS SANS FRONTIERES ARZTE OHNE GRENZEN eV.\\n\\nFUNDRAISING LOYALTY MANAGEMENT Our regular donors are particularly important for the predictable income.\\n\\nAt the beginning of 2025 we have about 272.000 RD, of whom\\n\\n▪ Ca. 238.000 can be reached by postal mailings (3 donor magazines, 1 annual receipt, 1 Letter from the project, eventually an upgrade appeal per year)\\n\\n▪ Ca. 51.500 can be reached by emailings with opt-in (approx. one or two every month) and about 77.000 without opt-in (approx. 6-8 emailings a year)\\n\\n▪ Ca. 45.000 can be reached by telephone (with opt-in) for upgrade and reactivation campaigns\\n\\n▪ Income share of all generated income: 27%\\n\\nLE MEDECINS SANS FRONTIERES ARZTE OHNE GRENZEN eV.',\n",
       " 'FUNDRAISING LOYALTY MANAGEMENT\\n\\nOverview of materials\\n\\nBares HERZLICHEN , DANK DAFiiRy DIESES HassoAno\\n\\nBares ‘ai JA rect ina eve Yow itston = fe heer OF sean see tstane Fanaa yy Femi Rrensuene = candies © se nsecnew tan earvere | E 3 | ve “tether Be 262s Sh set et testa, Pot ee “ence\\n\\nHERZLICHEN , DANK DAFiiRy\\n\\nDIESES HassoAno WENIG, UM LEBEN ZU RETTEN, Unie Ensat= gegen Mangalemshrung OD secsmame BENAWOEIT\\n\\n| E 3 | ve “tether Be 262s Sh set et testa, Pot ee reat tes singe omen “ence de iene eats ve Keser frmen engage hank Pete ith tg PROGEKT 14 HiKISTAN aterm etn cian tote sete seiitnn OSE 2022: stile \"30 Wk bl den dean van dan SER or msirer sage\\n\\nILLKOMMEN BEI AGE OHNE GRENZEN\\n\\nSehr geehrte Herr UVeberschaer, oar momen So, kann man aut einen Hettal vorbereitet sein? Dia Antnovt eulot: a-—ausschlaggovsna ist one Statler Pacung. cn mochto tee heute erkiaren, wie var orechen ASS USEC Teams ofroB imnernaip weniger Stunden einsataboreit sin O\\'s Kongovesische Mittonenstag niw@acnG0. Der letzte Ausbruch hee Pen 2021 tmnsrhab weniger Tage tdertiausende Bewonner\\'ree Scherer Entteraung in informnelion Camas Sch\\n\\nseiitnn OSE 2022: stile \"30 Wk bl den dean van dan SER or msirer sage Ze DB eeesgeren\\n\\nZe DB eeesgeren\\n\\nFUNDRAISING LOYALTY MANAGEMENT\\n\\nIn 2024 we gained\\n\\n• 20.884 new regular donors\\n\\n• 8.357 via online (e. g. Website, E-Mailings) With an average yearly donation of 461 €/donor\\n\\n• 8.210 via F2F (at the stand or door-to-door) With an average yearly donation of 123 €/donor\\n\\n• 3.345 via postal mailings (mostly mailings to existing donors) With an average yearly donation of 273 €/donor\\n\\n• 877 via Telephone (Inbound and Conversion Calls) With an average yearly donation of 240 €/donor\\n\\nLE MEDECINS SANS FRONTIERES ARZTE OHNE GRENZEN eV.\\n\\nFUNDRAISING LOYALTY MANAGEMENT\\n\\nWithin the target group of regular donors, there are two programs for special donors:\\n\\nFriends of sponsorship\\n\\n• all regular donors with a minimum donation of € 300 a year\\n\\n• Number: about 62.000\\n\\n• Average donation per year: € 579\\n\\n• Benefit: MSF wall calendar at the end of the year\\n\\n• New in 2024: 8.305\\n\\nLost in 2024: 3.996',\n",
       " 'Doctors for Doctors\\n\\n• Medical doctors with a minimum donation of € 360 a year\\n\\n• Number: about 5.800\\n\\n• Average donation per year: € 620\\n\\n• Benefit: e.g. an appointment diary for patients, certificate, a medical version of the donor magazine\\n\\nLE MEDECINS SANS FRONTIERES ARZTE OHNE GRENZEN eV.\\n\\nFUNDRAISING LOYALTY MANAGEMENT\\n\\nBut, in 2024 we also lost\\n\\n• 15.021 regular donors\\n\\n• with an annual contribution of over € 5 million\\n\\nThis is how this initiative will help MSF\\n\\nIf we could only retain 2-5% of the cancellers each year, it would have a huge impact on our revenue.\\n\\nIf we could predict which donors are about to cancel their donation, we could improve our attrition rate and increase our income year on year through targeted measures (mailings, newsletters or possibly no mailings at all) and tests.\\n\\nLE MEDECINS SANS FRONTIERES ARZTE OHNE GRENZEN eV.\\n\\nOVERVIEW OF DATA LIST TO USE FOR THIS\\n\\nPROJECT\\n\\n1. We will be sharing list of available data with the project team members on 14th Jan 2025\\n\\n2. We request students to come up with a proposed selection of data from this list which can help in focusing on the selected data for this project\\n\\n3. According to the requested list of data from the students, we will share data in batches end of January/beginning of February\\n\\nINSIGHTS FROM OTHER EU COUNTRY DONOR RETENTION INITIATIVE\\n\\n1. Separate machine learning models created for Face to face and Direct Marketing acquisitions\\n\\n2. Separate models created for churn in last 3 month, 6 month and 12 month with the 6-month model being selected for best segmentation differentiations\\n\\n3. Analysis done to determine relation of churn with different moments in donor/prospect lead journey e.g. between first donation date, last donation date, days since first donation and churn, tenure with MSF as donor and churn\\n\\n4. Segmentation model to better understand relation between churn and different initiatives like marketing loyalty management\\n\\n5. Understand Relation between recent contact and churn\\n\\n6. Split of pilot and full rollout implementation performed for testing accuracy of model in pilot and then launching evolved campaigns in full rollout\\n\\nLE MEDECINS SANS FRONTIERES ARZTE OHNE GRENZEN eV.',\n",
       " 'PROJECT SCOPE (1/3)\\n\\nResearch Title:\\n\\n\"Optimizing Donor Retention and Lifetime Value Strategies: Predictive Analytics and Segmentation for Enhanced Donor Engagement\"\\n\\nResearch Objective:\\n\\nTo develop data-driven strategies for reducing donor churn and identifying new donor segments by leveraging predictive analytics, market segmentation, and effective data visualization.\\n\\nLE MEDECINS SANS FRONTIERES ARZTE OHNE GRENZEN eV.\\n\\nPROJECT SCOPE (2/3) Research Questions:\\n\\n1. What are the key factors contributing to donor attrition, and how can predictive models help in identifying probable donors?\\n\\n2. How can the existing donor data be segmented to better understand future donor lifetime value and enhance targeted communication and improve donor retention?\\n\\n3. How can the findings from donor behavior analysis be effectively visualized to support decision-making and stakeholder engagement?\\n\\n4. Which external data sources can be utilized to better predict the donor lifetime value?\\n\\nLE MEDECINS SANS FRONTIERES ARZTE OHNE GRENZEN eV.\\n\\nPROJECT SCOPE (3/3) Research Design Overview:\\n\\nPhase 1: Understanding project scope, Data selection, Data Collection & Preparation\\n\\n1.\\n\\n1. No Personally identifiable information to be made available to maintain donor data confidentiality e.g. email address, contact number, home address, donor name\\n\\n2. Phase 2 & 3: Predictive Analysis & Segmentation – Understanding, segmenting and predicting donor lifetime value and predicting churn\\n\\n3. Phase 4: Data Visualization – Design of dashboard, visualization with samples\\n\\n4. Phase 5: Strategic Recommendation – Data driven ideas to improve donor engagement\\n\\nMEDECINS SANS FRONTIERES ARZTE OHNE GRENZEN eV.\\n\\nPROJECT CADENCE AND NEXT STEPS\\n\\nFebruary – March 2025 April 2025 • Regular Progress Meetings (every 3 weeks) • 29 Jan • 19 Feb • 12 Mar Project Germany • 16 Apr • 2 Apr • 9 Apr (closing iteration before submission in Moodle on 13 Apr 2024)\\n\\nJanuary 2025\\n\\n• Project Kick-\\n\\n• Share final\\n\\noff meeting\\n\\ndeliverables\\n\\n• 8 Jan\\n\\nand final\\n\\npresentation\\n\\n• Data transfer\\n\\nwith MSF-\\n\\nlist sharing\\n\\n• 14 Jan\\n\\nLE MEDECINS SANS FRONTIERES ARZTE OHNE GRENZEN eV.',\n",
       " 'PROJECT CADENCE AND NEXT STEPS\\n\\nExpected Outcome:\\n\\n1. A validated predictive model to identify highly probable donors and aim to reduce churn\\n\\n2. Segmentation report, including profiles of existing and mapped potential new donors to lifetime value segments\\n\\n3. Data visualizations that effectively communicate findings and support stakeholder decision-making\\n\\n4. Recommendations for targeted communication and donor engagement to enhance retention efforts\\n\\nLE MEDECINS SANS FRONTIERES ARZTE OHNE GRENZEN eV.\\n\\nQUESTIONS?\\n\\nse ray MEDECINS SANS FRONTIERES ARZTE OHNE GRENZEN eV.\\n\\nTHANK YOU\\n\\nTHANK YOU']"
      ]
     },
     "execution_count": 11,
     "metadata": {},
     "output_type": "execute_result"
    }
   ],
   "source": [
    "text"
   ]
  },
  {
   "cell_type": "markdown",
   "id": "d9e42b20",
   "metadata": {},
   "source": [
    "### Summarize the Data"
   ]
  },
  {
   "cell_type": "code",
   "execution_count": 12,
   "id": "742d63a9",
   "metadata": {},
   "outputs": [],
   "source": [
    "# Summarize extracted text and tables using LLM\n",
    "def summarize_text_and_tables(text, tables):\n",
    "    logging.info(\"Ready to summarize data with LLM\")\n",
    "    prompt_text = \"\"\"You are an assistant tasked with summarizing text and tables. \\\n",
    "    \n",
    "                    You are to give a concise summary of the table or text and do nothing else. \n",
    "                    Table or text chunk: {element} \"\"\"\n",
    "    prompt = ChatPromptTemplate.from_template(prompt_text)\n",
    "    model = ChatOpenAI(temperature=0.6, model=\"gpt-4o-mini\")\n",
    "    summarize_chain = {\"element\": RunnablePassthrough()}| prompt | model | StrOutputParser()\n",
    "    logging.info(f\"{model} done with summarization\")\n",
    "    return {\n",
    "        \"text\": summarize_chain.batch(text, {\"max_concurrency\": 5}),\n",
    "        \"table\": summarize_chain.batch(tables, {\"max_concurrency\": 5})\n",
    "    }"
   ]
  },
  {
   "cell_type": "code",
   "execution_count": 13,
   "id": "c3c67cf3",
   "metadata": {},
   "outputs": [],
   "source": [
    "data_summary = summarize_text_and_tables(text, tables)"
   ]
  },
  {
   "cell_type": "code",
   "execution_count": 14,
   "id": "8f461f72",
   "metadata": {},
   "outputs": [
    {
     "data": {
      "text/plain": [
       "{'text': ['The document outlines the agenda for a project meeting on Churn Prediction and Optimisation scheduled for January 8, 2025, involving the Médecins Sans Frontières (MSF) and ESMT teams. The agenda includes introductions of team members, an overview of MSF and its fundraising loyalty management, project scope, cadence, next steps, and a Q&A session. MSF, founded in 1971, is an international humanitarian organization focused on providing medical aid in crisis situations, operating in over 70 countries with a commitment to healthcare access for all. The project team consists of members from both MSF and ESMT, with various roles outlined for each individual.',\n",
       "  \"The MSF Charter outlines the principles and commitments of Médecins Sans Frontières (MSF), emphasizing their provision of assistance to those in need without discrimination, adherence to neutrality and impartiality, independence from political and religious influences, and acceptance of risks without compensation claims. The fundraising department's role is to secure funding for international projects through various sources, including donations, grants, fines, and legacies, with a focus on donor retention and long-term support. As of early 2025, MSF-Germany has approximately 272,000 regular donors, with significant outreach through postal mail, email, and telephone, generating 27% of their income.\",\n",
       "  'In 2024, the organization gained a total of 20,884 new regular donors through various channels: 8,357 online (average donation €461), 8,210 face-to-face (average donation €123), 3,345 via postal mailings (average donation €273), and 877 through telephone calls (average donation €240). Among regular donors, there are 62,000 special donors in the Friends of Sponsorship program, contributing an average of €579 annually, with 8,305 new members and 3,996 lost in 2024.',\n",
       "  '**Summary:**\\n\\nThe \"Doctors for Doctors\" initiative involves approximately 5,800 medical doctors who contribute an average of €620 annually, with a minimum donation of €360. Benefits for donors include patient appointment diaries and a medical donor magazine. In 2024, MSF experienced a loss of 15,021 regular donors, resulting in over €5 million in lost contributions. Retaining even 2-5% of these donors could significantly impact revenue. The project aims to predict donor cancellations to improve retention through targeted strategies. Data for this initiative will be shared with team members on January 14, 2025, and further data will be provided in batches at the end of January or early February. Insights from other EU countries indicate the use of machine learning models to analyze donor churn and improve retention strategies through segmentation and targeted communication.',\n",
       "  'The project titled \"Optimizing Donor Retention and Lifetime Value Strategies\" aims to develop data-driven strategies to reduce donor churn and identify new donor segments using predictive analytics and market segmentation. Key research questions focus on factors contributing to donor attrition, data segmentation for understanding donor lifetime value, effective visualization of donor behavior analysis, and external data sources for predicting donor value. The research design includes five phases: understanding project scope, predictive analysis and segmentation, data visualization, and strategic recommendations, while ensuring donor confidentiality. The project timeline includes regular progress meetings and key milestones from January to April 2025.',\n",
       "  'The project aims to achieve four key outcomes: a validated predictive model for identifying likely donors and reducing churn, a segmentation report profiling existing and potential donors by lifetime value, effective data visualizations for stakeholder communication, and targeted recommendations for enhancing donor engagement and retention.'],\n",
       " 'table': []}"
      ]
     },
     "execution_count": 14,
     "metadata": {},
     "output_type": "execute_result"
    }
   ],
   "source": [
    "data_summary"
   ]
  },
  {
   "cell_type": "code",
   "execution_count": 15,
   "id": "ac3494c0",
   "metadata": {},
   "outputs": [],
   "source": [
    "text_summary = data_summary['text']"
   ]
  },
  {
   "cell_type": "code",
   "execution_count": 16,
   "id": "7c39a357",
   "metadata": {},
   "outputs": [],
   "source": [
    "tables_summary = data_summary['table']"
   ]
  },
  {
   "cell_type": "markdown",
   "id": "a90c765b",
   "metadata": {},
   "source": [
    "### Initialize Retriever"
   ]
  },
  {
   "cell_type": "markdown",
   "id": "2092e5d2",
   "metadata": {},
   "source": [
    "I created here a RedisStore (for metadata) and a PGVector instance (backed by my PostgreSQL database) using OpenAIEmbeddings. By calling initialize_retriever(), I connect to that vector-enabled Postgres DB (and auto-install its vector extension), register my “my_documents” collection, and return a MultiVectorRetriever that lets me efficiently look up similar documents by embedding."
   ]
  },
  {
   "cell_type": "code",
   "execution_count": 19,
   "id": "7a4d7791",
   "metadata": {},
   "outputs": [],
   "source": [
    "def initialize_retriever():\n",
    "\n",
    "    store = RedisStore(client=client)\n",
    "    id_key = \"doc_id\"\n",
    "    vectorstore = PGVector(\n",
    "            embeddings=OpenAIEmbeddings(),\n",
    "            collection_name=COLLECTION_NAME,\n",
    "            connection=CONNECTION_STRING,\n",
    "            use_jsonb=True,\n",
    "            )\n",
    "    retrieval_loader = MultiVectorRetriever(vectorstore=vectorstore, docstore=store, id_key=\"doc_id\")\n",
    "    return retrieval_loader"
   ]
  },
  {
   "cell_type": "code",
   "execution_count": 21,
   "id": "38a0bab5",
   "metadata": {},
   "outputs": [],
   "source": [
    "load_retriever = initialize_retriever()"
   ]
  },
  {
   "cell_type": "markdown",
   "id": "6e63401d",
   "metadata": {},
   "source": [
    "### Add Summary to vectorstore & Raw data to RedisStore"
   ]
  },
  {
   "cell_type": "code",
   "execution_count": 24,
   "id": "983e92c8",
   "metadata": {},
   "outputs": [],
   "source": [
    "# Store text, tables, and their summaries in the retriever\n",
    "\n",
    "def store_docs_in_retriever(text, text_summary, table, table_summary, retriever):\n",
    "    \"\"\"Store text and table documents along with their summaries in the retriever.\"\"\"\n",
    "\n",
    "    def add_documents_to_retriever(documents, summaries, retriever, id_key = \"doc_id\"):\n",
    "        \"\"\"Helper function to add documents and their summaries to the retriever.\"\"\"\n",
    "        if not summaries:\n",
    "            return None, []\n",
    "\n",
    "        doc_ids = [str(uuid.uuid4()) for _ in documents]\n",
    "        summary_docs = [\n",
    "            Document(page_content=summary, metadata={id_key: doc_ids[i]})\n",
    "            for i, summary in enumerate(summaries)\n",
    "        ]\n",
    "\n",
    "        retriever.vectorstore.add_documents(summary_docs, ids=doc_ids)\n",
    "        retriever.docstore.mset(list(zip(doc_ids, documents)))     \n",
    "\n",
    "# Add text, table, and image summaries to the retriever\n",
    "    add_documents_to_retriever(text, text_summary, retriever)\n",
    "    add_documents_to_retriever(table, table_summary, retriever)\n",
    "    return retriever"
   ]
  },
  {
   "cell_type": "code",
   "execution_count": 25,
   "id": "2b3ef67a",
   "metadata": {},
   "outputs": [],
   "source": [
    "retriever  = store_docs_in_retriever(text, text_summary, tables,  tables_summary, load_retriever)"
   ]
  },
  {
   "cell_type": "code",
   "execution_count": 27,
   "id": "58d8e28f",
   "metadata": {},
   "outputs": [],
   "source": [
    "query = \"What are the key factors contributing to donor churn and the proposed strategies to improve retention in the MSF Churn Prediction and Optimisation report?\""
   ]
  },
  {
   "cell_type": "code",
   "execution_count": 28,
   "id": "6256fa20",
   "metadata": {},
   "outputs": [],
   "source": [
    "docs = retriever.invoke(query)"
   ]
  },
  {
   "cell_type": "code",
   "execution_count": 29,
   "id": "6c6a0dad",
   "metadata": {},
   "outputs": [
    {
     "data": {
      "text/plain": [
       "[b'PROJECT SCOPE (1/3)\\n\\nResearch Title:\\n\\n\"Optimizing Donor Retention and Lifetime Value Strategies: Predictive Analytics and Segmentation for Enhanced Donor Engagement\"\\n\\nResearch Objective:\\n\\nTo develop data-driven strategies for reducing donor churn and identifying new donor segments by leveraging predictive analytics, market segmentation, and effective data visualization.\\n\\nLE MEDECINS SANS FRONTIERES ARZTE OHNE GRENZEN eV.\\n\\nPROJECT SCOPE (2/3) Research Questions:\\n\\n1. What are the key factors contributing to donor attrition, and how can predictive models help in identifying probable donors?\\n\\n2. How can the existing donor data be segmented to better understand future donor lifetime value and enhance targeted communication and improve donor retention?\\n\\n3. How can the findings from donor behavior analysis be effectively visualized to support decision-making and stakeholder engagement?\\n\\n4. Which external data sources can be utilized to better predict the donor lifetime value?\\n\\nLE MEDECINS SANS FRONTIERES ARZTE OHNE GRENZEN eV.\\n\\nPROJECT SCOPE (3/3) Research Design Overview:\\n\\nPhase 1: Understanding project scope, Data selection, Data Collection & Preparation\\n\\n1.\\n\\n1. No Personally identifiable information to be made available to maintain donor data confidentiality e.g. email address, contact number, home address, donor name\\n\\n2. Phase 2 & 3: Predictive Analysis & Segmentation \\xe2\\x80\\x93 Understanding, segmenting and predicting donor lifetime value and predicting churn\\n\\n3. Phase 4: Data Visualization \\xe2\\x80\\x93 Design of dashboard, visualization with samples\\n\\n4. Phase 5: Strategic Recommendation \\xe2\\x80\\x93 Data driven ideas to improve donor engagement\\n\\nMEDECINS SANS FRONTIERES ARZTE OHNE GRENZEN eV.\\n\\nPROJECT CADENCE AND NEXT STEPS\\n\\nFebruary \\xe2\\x80\\x93 March 2025 April 2025 \\xe2\\x80\\xa2 Regular Progress Meetings (every 3 weeks) \\xe2\\x80\\xa2 29 Jan \\xe2\\x80\\xa2 19 Feb \\xe2\\x80\\xa2 12 Mar Project Germany \\xe2\\x80\\xa2 16 Apr \\xe2\\x80\\xa2 2 Apr \\xe2\\x80\\xa2 9 Apr (closing iteration before submission in Moodle on 13 Apr 2024)\\n\\nJanuary 2025\\n\\n\\xe2\\x80\\xa2 Project Kick-\\n\\n\\xe2\\x80\\xa2 Share final\\n\\noff meeting\\n\\ndeliverables\\n\\n\\xe2\\x80\\xa2 8 Jan\\n\\nand final\\n\\npresentation\\n\\n\\xe2\\x80\\xa2 Data transfer\\n\\nwith MSF-\\n\\nlist sharing\\n\\n\\xe2\\x80\\xa2 14 Jan\\n\\nLE MEDECINS SANS FRONTIERES ARZTE OHNE GRENZEN eV.',\n",
       " b'PROJECT CADENCE AND NEXT STEPS\\n\\nExpected Outcome:\\n\\n1. A validated predictive model to identify highly probable donors and aim to reduce churn\\n\\n2. Segmentation report, including profiles of existing and mapped potential new donors to lifetime value segments\\n\\n3. Data visualizations that effectively communicate findings and support stakeholder decision-making\\n\\n4. Recommendations for targeted communication and donor engagement to enhance retention efforts\\n\\nLE MEDECINS SANS FRONTIERES ARZTE OHNE GRENZEN eV.\\n\\nQUESTIONS?\\n\\nse ray MEDECINS SANS FRONTIERES ARZTE OHNE GRENZEN eV.\\n\\nTHANK YOU\\n\\nTHANK YOU']"
      ]
     },
     "execution_count": 29,
     "metadata": {},
     "output_type": "execute_result"
    }
   ],
   "source": [
    "docs"
   ]
  },
  {
   "cell_type": "markdown",
   "id": "367e90af",
   "metadata": {},
   "source": [
    "### RAG Pipeline"
   ]
  },
  {
   "cell_type": "markdown",
   "id": "7aa22cf9",
   "metadata": {},
   "source": [
    "Parsed the retriever output"
   ]
  },
  {
   "cell_type": "code",
   "execution_count": 30,
   "id": "f478311a",
   "metadata": {},
   "outputs": [],
   "source": [
    "def parse_retriver_output(data):\n",
    "    parsed_elements = []\n",
    "    for element in data:\n",
    "        # Decode bytes to string if necessary\n",
    "        if isinstance(element, bytes):\n",
    "            element = element.decode(\"utf-8\")\n",
    "        \n",
    "        parsed_elements.append(element)\n",
    "    \n",
    "    return parsed_elements"
   ]
  },
  {
   "cell_type": "markdown",
   "id": "0161c41c",
   "metadata": {},
   "source": [
    "Chat with the LLM using retrieved context"
   ]
  },
  {
   "cell_type": "code",
   "execution_count": 31,
   "id": "a4dccf75",
   "metadata": {},
   "outputs": [],
   "source": [
    "def chat_with_llm():\n",
    "\n",
    "\n",
    "    prompt_text = \"\"\"\n",
    "                You are an AI Assistant tasked with understanding detailed\n",
    "                information from text and tables. You are to answer the question based on the \n",
    "                context provided to you. You must not go beyond the context given to you.\n",
    "                \n",
    "                Context:\n",
    "                {context}\n",
    "\n",
    "                Question:\n",
    "                {question}\n",
    "                \"\"\"\n",
    "\n",
    "    prompt = ChatPromptTemplate.from_template(prompt_text)\n",
    "    model = ChatOpenAI(temperature=0.6, model=\"gpt-4o-mini\")\n",
    "\n",
    "    rag_chain = {\n",
    "       \"context\": retriever | RunnableLambda(parse_retriver_output), \"question\": RunnablePassthrough(),\n",
    "        } | RunnablePassthrough().assign(\n",
    "        response=(\n",
    "        prompt \n",
    "        | model \n",
    "        | StrOutputParser()\n",
    "        )\n",
    "        )\n",
    "\n",
    "    return rag_chain"
   ]
  },
  {
   "cell_type": "code",
   "execution_count": 32,
   "id": "4c6f49a3",
   "metadata": {},
   "outputs": [],
   "source": [
    "rag_chain = chat_with_llm()"
   ]
  },
  {
   "cell_type": "code",
   "execution_count": 45,
   "id": "9f126c10",
   "metadata": {},
   "outputs": [],
   "source": [
    "response = rag_chain.invoke(\n",
    "    \"I want to know more about MSF, be concise please\"\n",
    ")"
   ]
  },
  {
   "cell_type": "code",
   "execution_count": 46,
   "id": "4370ffdb",
   "metadata": {},
   "outputs": [
    {
     "name": "stdout",
     "output_type": "stream",
     "text": [
      "Médecins Sans Frontières (MSF) was founded in 1971 in France by a group of doctors and journalists. It is an independent organization focused on delivering emergency medical aid in crisis situations, regardless of race, religion, or political affiliation. MSF operates in over 70 countries and is composed mainly of healthcare professionals, with a current workforce of more than 69,000 people. The organization emphasizes neutrality, impartiality, and independence in its humanitarian efforts. Its funding comes from private donations, grants, and legacies, with a goal of retaining and engaging donors for long-term support.\n"
     ]
    }
   ],
   "source": [
    "print(response['response'])"
   ]
  },
  {
   "cell_type": "code",
   "execution_count": 39,
   "id": "8b804baa",
   "metadata": {},
   "outputs": [],
   "source": [
    "response = rag_chain.invoke(\n",
    "    \"What is the objective of this project, and when is the deadline\"\n",
    ")"
   ]
  },
  {
   "cell_type": "code",
   "execution_count": 41,
   "id": "1ead5b1a",
   "metadata": {},
   "outputs": [
    {
     "name": "stdout",
     "output_type": "stream",
     "text": [
      "The objective of the project is to develop data-driven strategies for reducing donor churn and identifying new donor segments by leveraging predictive analytics, market segmentation, and effective data visualization. The deadline for the project is 13 April 2024, which is when the final deliverables are to be submitted.\n"
     ]
    }
   ],
   "source": [
    "print(response['response'])"
   ]
  },
  {
   "cell_type": "code",
   "execution_count": 42,
   "id": "4433da62",
   "metadata": {},
   "outputs": [],
   "source": [
    "response = rag_chain.invoke(\n",
    "    \"What are the key factors driving donor attrition and how does the project plan to predict and reduce churn?\"\n",
    ")"
   ]
  },
  {
   "cell_type": "code",
   "execution_count": 34,
   "id": "fdc76439",
   "metadata": {},
   "outputs": [
    {
     "data": {
      "text/plain": [
       "{'context': ['PROJECT SCOPE (1/3)\\n\\nResearch Title:\\n\\n\"Optimizing Donor Retention and Lifetime Value Strategies: Predictive Analytics and Segmentation for Enhanced Donor Engagement\"\\n\\nResearch Objective:\\n\\nTo develop data-driven strategies for reducing donor churn and identifying new donor segments by leveraging predictive analytics, market segmentation, and effective data visualization.\\n\\nLE MEDECINS SANS FRONTIERES ARZTE OHNE GRENZEN eV.\\n\\nPROJECT SCOPE (2/3) Research Questions:\\n\\n1. What are the key factors contributing to donor attrition, and how can predictive models help in identifying probable donors?\\n\\n2. How can the existing donor data be segmented to better understand future donor lifetime value and enhance targeted communication and improve donor retention?\\n\\n3. How can the findings from donor behavior analysis be effectively visualized to support decision-making and stakeholder engagement?\\n\\n4. Which external data sources can be utilized to better predict the donor lifetime value?\\n\\nLE MEDECINS SANS FRONTIERES ARZTE OHNE GRENZEN eV.\\n\\nPROJECT SCOPE (3/3) Research Design Overview:\\n\\nPhase 1: Understanding project scope, Data selection, Data Collection & Preparation\\n\\n1.\\n\\n1. No Personally identifiable information to be made available to maintain donor data confidentiality e.g. email address, contact number, home address, donor name\\n\\n2. Phase 2 & 3: Predictive Analysis & Segmentation – Understanding, segmenting and predicting donor lifetime value and predicting churn\\n\\n3. Phase 4: Data Visualization – Design of dashboard, visualization with samples\\n\\n4. Phase 5: Strategic Recommendation – Data driven ideas to improve donor engagement\\n\\nMEDECINS SANS FRONTIERES ARZTE OHNE GRENZEN eV.\\n\\nPROJECT CADENCE AND NEXT STEPS\\n\\nFebruary – March 2025 April 2025 • Regular Progress Meetings (every 3 weeks) • 29 Jan • 19 Feb • 12 Mar Project Germany • 16 Apr • 2 Apr • 9 Apr (closing iteration before submission in Moodle on 13 Apr 2024)\\n\\nJanuary 2025\\n\\n• Project Kick-\\n\\n• Share final\\n\\noff meeting\\n\\ndeliverables\\n\\n• 8 Jan\\n\\nand final\\n\\npresentation\\n\\n• Data transfer\\n\\nwith MSF-\\n\\nlist sharing\\n\\n• 14 Jan\\n\\nLE MEDECINS SANS FRONTIERES ARZTE OHNE GRENZEN eV.',\n",
       "  'PROJECT CADENCE AND NEXT STEPS\\n\\nExpected Outcome:\\n\\n1. A validated predictive model to identify highly probable donors and aim to reduce churn\\n\\n2. Segmentation report, including profiles of existing and mapped potential new donors to lifetime value segments\\n\\n3. Data visualizations that effectively communicate findings and support stakeholder decision-making\\n\\n4. Recommendations for targeted communication and donor engagement to enhance retention efforts\\n\\nLE MEDECINS SANS FRONTIERES ARZTE OHNE GRENZEN eV.\\n\\nQUESTIONS?\\n\\nse ray MEDECINS SANS FRONTIERES ARZTE OHNE GRENZEN eV.\\n\\nTHANK YOU\\n\\nTHANK YOU'],\n",
       " 'question': 'What are the key factors driving donor attrition and how does the project plan to predict and reduce churn?',\n",
       " 'response': 'The key factors contributing to donor attrition are addressed in the project\\'s research questions, specifically the first one: \"What are the key factors contributing to donor attrition, and how can predictive models help in identifying probable donors?\" The project plans to predict and reduce churn by developing validated predictive models that identify highly probable donors, which can help in targeting interventions to reduce donor churn. Additionally, the project includes phases focused on predictive analysis and segmentation to understand, segment, and predict donor lifetime value and churn, thereby informing strategies to enhance donor retention.'}"
      ]
     },
     "execution_count": 34,
     "metadata": {},
     "output_type": "execute_result"
    }
   ],
   "source": [
    "response"
   ]
  },
  {
   "cell_type": "code",
   "execution_count": 35,
   "id": "fb51b06e",
   "metadata": {},
   "outputs": [
    {
     "name": "stdout",
     "output_type": "stream",
     "text": [
      "The key factors contributing to donor attrition are addressed in the project's research questions, specifically the first one: \"What are the key factors contributing to donor attrition, and how can predictive models help in identifying probable donors?\" The project plans to predict and reduce churn by developing validated predictive models that identify highly probable donors, which can help in targeting interventions to reduce donor churn. Additionally, the project includes phases focused on predictive analysis and segmentation to understand, segment, and predict donor lifetime value and churn, thereby informing strategies to enhance donor retention.\n"
     ]
    }
   ],
   "source": [
    "print(response['response'])"
   ]
  },
  {
   "cell_type": "code",
   "execution_count": 43,
   "id": "8e636111",
   "metadata": {},
   "outputs": [],
   "source": [
    "# here for instance , I asked a question that is not in the pdf , so MSF didn't mention in the pdf specific algorithms we need to use\n",
    "response = rag_chain.invoke(\n",
    "    \"What predictive modeling techniques and evaluation metrics are proposed in the MSF Churn Prediction Project to forecast donor churn and lifetime value?\"\n",
    ")"
   ]
  },
  {
   "cell_type": "code",
   "execution_count": 44,
   "id": "53f0e940",
   "metadata": {},
   "outputs": [
    {
     "name": "stdout",
     "output_type": "stream",
     "text": [
      "The provided context does not specify any predictive modeling techniques or evaluation metrics proposed in the MSF Churn Prediction Project to forecast donor churn and lifetime value. Therefore, I cannot provide an answer to that question based on the given information.\n"
     ]
    }
   ],
   "source": [
    "print(response['response'])"
   ]
  }
 ],
 "metadata": {
  "kernelspec": {
   "display_name": "venv",
   "language": "python",
   "name": "python3"
  },
  "language_info": {
   "codemirror_mode": {
    "name": "ipython",
    "version": 3
   },
   "file_extension": ".py",
   "mimetype": "text/x-python",
   "name": "python",
   "nbconvert_exporter": "python",
   "pygments_lexer": "ipython3",
   "version": "3.12.8"
  }
 },
 "nbformat": 4,
 "nbformat_minor": 5
}
